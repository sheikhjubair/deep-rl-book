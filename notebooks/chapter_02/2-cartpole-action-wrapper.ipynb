{
 "cells": [
  {
   "cell_type": "code",
   "execution_count": 8,
   "metadata": {},
   "outputs": [],
   "source": [
    "import gym\n",
    "from typing import TypeVar\n",
    "import random"
   ]
  },
  {
   "cell_type": "code",
   "execution_count": 9,
   "metadata": {},
   "outputs": [],
   "source": [
    "class RandomActionWrapper(gym.ActionWrapper):\n",
    "    def __init__(self, env, epsilon=0.1):\n",
    "        super(RandomActionWrapper, self).__init__(env)\n",
    "        self.epsilon = epsilon\n",
    "        \n",
    "    def action(self, action):\n",
    "        if random.random() < self.epsilon:\n",
    "            print('Random Action')\n",
    "            action = self.env.action_space.sample()\n",
    "            \n",
    "        return action"
   ]
  },
  {
   "cell_type": "code",
   "execution_count": 10,
   "metadata": {},
   "outputs": [
    {
     "name": "stdout",
     "output_type": "stream",
     "text": [
      "Random Action\n"
     ]
    }
   ],
   "source": [
    "if __name__ ==\"__main__\":\n",
    "    env = RandomActionWrapper(gym.make('CartPole-v0'))\n",
    "    obs = env.reset()\n",
    "    \n",
    "    total_reward = 0\n",
    "    total_steps = 0\n",
    "    \n",
    "    while True:\n",
    "        action = env.action_space.sample()\n",
    "        obs, reward, terminated, _, info = env.step(action=action)\n",
    "        \n",
    "        total_reward += reward\n",
    "        total_steps += 1\n",
    "        \n",
    "        if terminated:\n",
    "            break"
   ]
  },
  {
   "cell_type": "code",
   "execution_count": 11,
   "metadata": {},
   "outputs": [
    {
     "name": "stdout",
     "output_type": "stream",
     "text": [
      "Episode done in 18 steps, total rewards 18.0\n"
     ]
    }
   ],
   "source": [
    "print(\"Episode done in {} steps, total rewards {}\".format(total_steps, total_reward))"
   ]
  }
 ],
 "metadata": {
  "kernelspec": {
   "display_name": "rl",
   "language": "python",
   "name": "python3"
  },
  "language_info": {
   "codemirror_mode": {
    "name": "ipython",
    "version": 3
   },
   "file_extension": ".py",
   "mimetype": "text/x-python",
   "name": "python",
   "nbconvert_exporter": "python",
   "pygments_lexer": "ipython3",
   "version": "3.9.16"
  }
 },
 "nbformat": 4,
 "nbformat_minor": 2
}
